{
 "cells": [
  {
   "cell_type": "code",
   "execution_count": 119,
   "metadata": {},
   "outputs": [],
   "source": [
    "import requests\n",
    "dailystar=requests.get('https://www.thedailystar.net').text"
   ]
  },
  {
   "cell_type": "code",
   "execution_count": 120,
   "metadata": {},
   "outputs": [],
   "source": [
    "from bs4 import BeautifulSoup\n",
    "dailystar=BeautifulSoup(dailystar,'html.parser')"
   ]
  },
  {
   "cell_type": "code",
   "execution_count": 121,
   "metadata": {},
   "outputs": [],
   "source": [
    "list=[]"
   ]
  },
  {
   "cell_type": "code",
   "execution_count": 122,
   "metadata": {},
   "outputs": [],
   "source": [
    "for string in dailystar.stripped_strings:\n",
    "                list.append(repr(string))\n",
    "                "
   ]
  },
  {
   "cell_type": "code",
   "execution_count": 123,
   "metadata": {},
   "outputs": [],
   "source": [
    "beg=list.index('\"Today\\'s News\"')\n",
    "end=list.index(\"'Latest'\")"
   ]
  },
  {
   "cell_type": "code",
   "execution_count": 124,
   "metadata": {},
   "outputs": [],
   "source": [
    "todays_news=list[beg+1:end]"
   ]
  },
  {
   "cell_type": "code",
   "execution_count": 132,
   "metadata": {},
   "outputs": [
    {
     "data": {
      "text/plain": [
       "[\"'Bangladeshi Himsagar mangoes on the way to Italy, France and UK'\",\n",
       " \"'Farmers of coastal area triumph over salinity'\",\n",
       " \"'First death due to ‘black fungus’ reported in West Bengal'\",\n",
       " '\"Singapore\\'s largest active Covid-19 cluster: What went wrong at Changi Airport?\"',\n",
       " \"'Cyclone Yaas: Bagerhat DC holds emergency meeting, asks to prepare 344 shelter centres'\",\n",
       " \"'Myanmar ethnic army attacks jade mining town, media say'\",\n",
       " \"'China says Martian rover takes first drive on surface of Red Planet'\",\n",
       " \"'Pandemic curbs only on paper'\",\n",
       " \"'Bangladesh urgently seeks 1.6 million AstraZeneca doses from UK'\",\n",
       " \"'Ambulance-truck collision leaves 2 dead in Narayanganj'\",\n",
       " \"'Women journalists start token hunger strike for immediate release of Rozina'\",\n",
       " \"'Mahmud tests positive for Covid-19'\",\n",
       " \"'Boat capsized in Mediterranean with Bangladeshi migrants was caught in storm: victims'\",\n",
       " \"'‘Winning important, but with one eye in future’'\",\n",
       " '\"Cyclone brewing over Andaman Sea \\'may hit\\' Bangladesh coast\"',\n",
       " \"'5 workers burnt in Narayanganj factory fire'\",\n",
       " \"'3 dead, 27 hurt as strong quake shakes southwest China'\",\n",
       " \"'In climate push, G7 agrees to stop international funding for coal'\",\n",
       " \"'Sinopharm Vaccine: China to give another six lakh doses as gift'\",\n",
       " \"'Hospital suffers, so do patients'\",\n",
       " \"'Bangladeshi Himsagar mangoes on the way to Italy, France and UK'\",\n",
       " \"'Europe will soon get to taste delectable mango from Bangladesh’s Satkhira district.'\",\n",
       " \"'Farmers of coastal area triumph over salinity'\",\n",
       " \"'First death due to ‘black fungus’ reported in West Bengal'\",\n",
       " '\"Singapore\\'s largest active Covid-19 cluster: What went wrong at Changi Airport?\"']"
      ]
     },
     "execution_count": 132,
     "metadata": {},
     "output_type": "execute_result"
    }
   ],
   "source": [
    "todays_news"
   ]
  },
  {
   "cell_type": "code",
   "execution_count": 131,
   "metadata": {},
   "outputs": [
    {
     "data": {
      "text/plain": [
       "RangeIndex(start=0, stop=1, step=1)"
      ]
     },
     "execution_count": 131,
     "metadata": {},
     "output_type": "execute_result"
    }
   ],
   "source": []
  },
  {
   "cell_type": "code",
   "execution_count": 1,
   "metadata": {},
   "outputs": [],
   "source": [
    "import pandas as pd\n",
    "pop=pd.read_csv('SYB63_327_202009_International Migrants and Refugees.csv')"
   ]
  },
  {
   "cell_type": "code",
   "execution_count": 3,
   "metadata": {},
   "outputs": [
    {
     "data": {
      "text/html": [
       "<div>\n",
       "<style scoped>\n",
       "    .dataframe tbody tr th:only-of-type {\n",
       "        vertical-align: middle;\n",
       "    }\n",
       "\n",
       "    .dataframe tbody tr th {\n",
       "        vertical-align: top;\n",
       "    }\n",
       "\n",
       "    .dataframe thead th {\n",
       "        text-align: right;\n",
       "    }\n",
       "</style>\n",
       "<table border=\"1\" class=\"dataframe\">\n",
       "  <thead>\n",
       "    <tr style=\"text-align: right;\">\n",
       "      <th></th>\n",
       "      <th>T03</th>\n",
       "      <th>International migrants and refugees</th>\n",
       "      <th>Unnamed: 2</th>\n",
       "      <th>Unnamed: 3</th>\n",
       "      <th>Unnamed: 4</th>\n",
       "      <th>Unnamed: 5</th>\n",
       "      <th>Unnamed: 6</th>\n",
       "    </tr>\n",
       "  </thead>\n",
       "  <tbody>\n",
       "    <tr>\n",
       "      <th>0</th>\n",
       "      <td>Region/Country/Area</td>\n",
       "      <td>NaN</td>\n",
       "      <td>Year</td>\n",
       "      <td>Series</td>\n",
       "      <td>Value</td>\n",
       "      <td>Footnotes</td>\n",
       "      <td>Source</td>\n",
       "    </tr>\n",
       "    <tr>\n",
       "      <th>1</th>\n",
       "      <td>1</td>\n",
       "      <td>Total, all countries or areas</td>\n",
       "      <td>2005</td>\n",
       "      <td>International migrant stock: Both sexes (number)</td>\n",
       "      <td>191615574.0000</td>\n",
       "      <td>NaN</td>\n",
       "      <td>United Nations Population Division, New York, ...</td>\n",
       "    </tr>\n",
       "    <tr>\n",
       "      <th>2</th>\n",
       "      <td>1</td>\n",
       "      <td>Total, all countries or areas</td>\n",
       "      <td>2005</td>\n",
       "      <td>International migrant stock: Both sexes (% tot...</td>\n",
       "      <td>2.9290</td>\n",
       "      <td>NaN</td>\n",
       "      <td>United Nations Population Division, New York, ...</td>\n",
       "    </tr>\n",
       "    <tr>\n",
       "      <th>3</th>\n",
       "      <td>1</td>\n",
       "      <td>Total, all countries or areas</td>\n",
       "      <td>2005</td>\n",
       "      <td>International migrant stock: Male (% total Pop...</td>\n",
       "      <td>2.9686</td>\n",
       "      <td>NaN</td>\n",
       "      <td>United Nations Population Division, New York, ...</td>\n",
       "    </tr>\n",
       "    <tr>\n",
       "      <th>4</th>\n",
       "      <td>1</td>\n",
       "      <td>Total, all countries or areas</td>\n",
       "      <td>2005</td>\n",
       "      <td>International migrant stock: Female (% total P...</td>\n",
       "      <td>2.8888</td>\n",
       "      <td>NaN</td>\n",
       "      <td>United Nations Population Division, New York, ...</td>\n",
       "    </tr>\n",
       "  </tbody>\n",
       "</table>\n",
       "</div>"
      ],
      "text/plain": [
       "                   T03 International migrants and refugees Unnamed: 2  \\\n",
       "0  Region/Country/Area                                 NaN       Year   \n",
       "1                    1       Total, all countries or areas       2005   \n",
       "2                    1       Total, all countries or areas       2005   \n",
       "3                    1       Total, all countries or areas       2005   \n",
       "4                    1       Total, all countries or areas       2005   \n",
       "\n",
       "                                          Unnamed: 3      Unnamed: 4  \\\n",
       "0                                             Series           Value   \n",
       "1   International migrant stock: Both sexes (number)  191615574.0000   \n",
       "2  International migrant stock: Both sexes (% tot...          2.9290   \n",
       "3  International migrant stock: Male (% total Pop...          2.9686   \n",
       "4  International migrant stock: Female (% total P...          2.8888   \n",
       "\n",
       "  Unnamed: 5                                         Unnamed: 6  \n",
       "0  Footnotes                                             Source  \n",
       "1        NaN  United Nations Population Division, New York, ...  \n",
       "2        NaN  United Nations Population Division, New York, ...  \n",
       "3        NaN  United Nations Population Division, New York, ...  \n",
       "4        NaN  United Nations Population Division, New York, ...  "
      ]
     },
     "execution_count": 3,
     "metadata": {},
     "output_type": "execute_result"
    }
   ],
   "source": [
    "pop.head()"
   ]
  },
  {
   "cell_type": "code",
   "execution_count": 6,
   "metadata": {},
   "outputs": [],
   "source": [
    "pop.drop(columns={'Unnamed: 5','Unnamed: 6'},inplace=True)"
   ]
  },
  {
   "cell_type": "code",
   "execution_count": 9,
   "metadata": {},
   "outputs": [],
   "source": [
    "pop.rename(columns= {'T03':'Area'},inplace=True)"
   ]
  },
  {
   "cell_type": "code",
   "execution_count": 10,
   "metadata": {},
   "outputs": [
    {
     "data": {
      "text/html": [
       "<div>\n",
       "<style scoped>\n",
       "    .dataframe tbody tr th:only-of-type {\n",
       "        vertical-align: middle;\n",
       "    }\n",
       "\n",
       "    .dataframe tbody tr th {\n",
       "        vertical-align: top;\n",
       "    }\n",
       "\n",
       "    .dataframe thead th {\n",
       "        text-align: right;\n",
       "    }\n",
       "</style>\n",
       "<table border=\"1\" class=\"dataframe\">\n",
       "  <thead>\n",
       "    <tr style=\"text-align: right;\">\n",
       "      <th></th>\n",
       "      <th>Area</th>\n",
       "      <th>International migrants and refugees</th>\n",
       "      <th>Unnamed: 2</th>\n",
       "      <th>Unnamed: 3</th>\n",
       "      <th>Unnamed: 4</th>\n",
       "    </tr>\n",
       "  </thead>\n",
       "  <tbody>\n",
       "    <tr>\n",
       "      <th>0</th>\n",
       "      <td>Region/Country/Area</td>\n",
       "      <td>NaN</td>\n",
       "      <td>Year</td>\n",
       "      <td>Series</td>\n",
       "      <td>Value</td>\n",
       "    </tr>\n",
       "    <tr>\n",
       "      <th>1</th>\n",
       "      <td>1</td>\n",
       "      <td>Total, all countries or areas</td>\n",
       "      <td>2005</td>\n",
       "      <td>International migrant stock: Both sexes (number)</td>\n",
       "      <td>191615574.0000</td>\n",
       "    </tr>\n",
       "    <tr>\n",
       "      <th>2</th>\n",
       "      <td>1</td>\n",
       "      <td>Total, all countries or areas</td>\n",
       "      <td>2005</td>\n",
       "      <td>International migrant stock: Both sexes (% tot...</td>\n",
       "      <td>2.9290</td>\n",
       "    </tr>\n",
       "    <tr>\n",
       "      <th>3</th>\n",
       "      <td>1</td>\n",
       "      <td>Total, all countries or areas</td>\n",
       "      <td>2005</td>\n",
       "      <td>International migrant stock: Male (% total Pop...</td>\n",
       "      <td>2.9686</td>\n",
       "    </tr>\n",
       "    <tr>\n",
       "      <th>4</th>\n",
       "      <td>1</td>\n",
       "      <td>Total, all countries or areas</td>\n",
       "      <td>2005</td>\n",
       "      <td>International migrant stock: Female (% total P...</td>\n",
       "      <td>2.8888</td>\n",
       "    </tr>\n",
       "  </tbody>\n",
       "</table>\n",
       "</div>"
      ],
      "text/plain": [
       "                  Area International migrants and refugees Unnamed: 2  \\\n",
       "0  Region/Country/Area                                 NaN       Year   \n",
       "1                    1       Total, all countries or areas       2005   \n",
       "2                    1       Total, all countries or areas       2005   \n",
       "3                    1       Total, all countries or areas       2005   \n",
       "4                    1       Total, all countries or areas       2005   \n",
       "\n",
       "                                          Unnamed: 3      Unnamed: 4  \n",
       "0                                             Series           Value  \n",
       "1   International migrant stock: Both sexes (number)  191615574.0000  \n",
       "2  International migrant stock: Both sexes (% tot...          2.9290  \n",
       "3  International migrant stock: Male (% total Pop...          2.9686  \n",
       "4  International migrant stock: Female (% total P...          2.8888  "
      ]
     },
     "execution_count": 10,
     "metadata": {},
     "output_type": "execute_result"
    }
   ],
   "source": [
    "pop.head()"
   ]
  },
  {
   "cell_type": "code",
   "execution_count": 24,
   "metadata": {},
   "outputs": [],
   "source": [
    "pop.drop(index=0,inplace=True)"
   ]
  },
  {
   "cell_type": "code",
   "execution_count": 33,
   "metadata": {},
   "outputs": [],
   "source": [
    "pop.rename(columns={'Unnamed: 2' : 'Year', 'Unnamed: 3': 'Type', 'Unnamed: 4':'Value'}, inplace=True)"
   ]
  },
  {
   "cell_type": "code",
   "execution_count": 44,
   "metadata": {},
   "outputs": [
    {
     "data": {
      "text/html": [
       "<div>\n",
       "<style scoped>\n",
       "    .dataframe tbody tr th:only-of-type {\n",
       "        vertical-align: middle;\n",
       "    }\n",
       "\n",
       "    .dataframe tbody tr th {\n",
       "        vertical-align: top;\n",
       "    }\n",
       "\n",
       "    .dataframe thead th {\n",
       "        text-align: right;\n",
       "    }\n",
       "</style>\n",
       "<table border=\"1\" class=\"dataframe\">\n",
       "  <thead>\n",
       "    <tr style=\"text-align: right;\">\n",
       "      <th></th>\n",
       "      <th>International migrants and refugees</th>\n",
       "      <th>Year</th>\n",
       "      <th>Type</th>\n",
       "      <th>Value</th>\n",
       "    </tr>\n",
       "    <tr>\n",
       "      <th>Area</th>\n",
       "      <th></th>\n",
       "      <th></th>\n",
       "      <th></th>\n",
       "      <th></th>\n",
       "    </tr>\n",
       "  </thead>\n",
       "  <tbody>\n",
       "    <tr>\n",
       "      <th>716</th>\n",
       "      <td>Zimbabwe</td>\n",
       "      <td>2019</td>\n",
       "      <td>International migrant stock: Female (% total P...</td>\n",
       "      <td>2.3180</td>\n",
       "    </tr>\n",
       "    <tr>\n",
       "      <th>716</th>\n",
       "      <td>Zimbabwe</td>\n",
       "      <td>2019</td>\n",
       "      <td>Total refugees and people in refugee-like situ...</td>\n",
       "      <td>8706.0000</td>\n",
       "    </tr>\n",
       "    <tr>\n",
       "      <th>716</th>\n",
       "      <td>Zimbabwe</td>\n",
       "      <td>2019</td>\n",
       "      <td>Asylum seekers, including pending cases (number)</td>\n",
       "      <td>11155.0000</td>\n",
       "    </tr>\n",
       "    <tr>\n",
       "      <th>716</th>\n",
       "      <td>Zimbabwe</td>\n",
       "      <td>2019</td>\n",
       "      <td>Other of concern to UNHCR (number)</td>\n",
       "      <td>969.0000</td>\n",
       "    </tr>\n",
       "    <tr>\n",
       "      <th>716</th>\n",
       "      <td>Zimbabwe</td>\n",
       "      <td>2019</td>\n",
       "      <td>Total population of concern to UNHCR (number)</td>\n",
       "      <td>20830.0000</td>\n",
       "    </tr>\n",
       "  </tbody>\n",
       "</table>\n",
       "</div>"
      ],
      "text/plain": [
       "     International migrants and refugees  Year  \\\n",
       "Area                                             \n",
       "716                             Zimbabwe  2019   \n",
       "716                             Zimbabwe  2019   \n",
       "716                             Zimbabwe  2019   \n",
       "716                             Zimbabwe  2019   \n",
       "716                             Zimbabwe  2019   \n",
       "\n",
       "                                                   Type       Value  \n",
       "Area                                                                 \n",
       "716   International migrant stock: Female (% total P...      2.3180  \n",
       "716   Total refugees and people in refugee-like situ...   8706.0000  \n",
       "716    Asylum seekers, including pending cases (number)  11155.0000  \n",
       "716                  Other of concern to UNHCR (number)    969.0000  \n",
       "716       Total population of concern to UNHCR (number)  20830.0000  "
      ]
     },
     "execution_count": 44,
     "metadata": {},
     "output_type": "execute_result"
    }
   ],
   "source": [
    "pop.tail()"
   ]
  },
  {
   "cell_type": "code",
   "execution_count": 36,
   "metadata": {},
   "outputs": [],
   "source": [
    "pop.set_index('Area',inplace=True)"
   ]
  },
  {
   "cell_type": "code",
   "execution_count": 42,
   "metadata": {},
   "outputs": [],
   "source": [
    "for i in pop['International migrants and refugees']:\n",
    "    i=pop[['Year','Type','Value']]"
   ]
  },
  {
   "cell_type": "code",
   "execution_count": 45,
   "metadata": {},
   "outputs": [
    {
     "ename": "NameError",
     "evalue": "name 'Zimbabwe' is not defined",
     "output_type": "error",
     "traceback": [
      "\u001b[1;31m---------------------------------------------------------------------------\u001b[0m",
      "\u001b[1;31mNameError\u001b[0m                                 Traceback (most recent call last)",
      "\u001b[1;32m<ipython-input-45-2e4de161e501>\u001b[0m in \u001b[0;36m<module>\u001b[1;34m\u001b[0m\n\u001b[1;32m----> 1\u001b[1;33m \u001b[0mZimbabwe\u001b[0m\u001b[1;33m\u001b[0m\u001b[1;33m\u001b[0m\u001b[0m\n\u001b[0m",
      "\u001b[1;31mNameError\u001b[0m: name 'Zimbabwe' is not defined"
     ]
    }
   ],
   "source": [
    "Zimbabwe"
   ]
  },
  {
   "cell_type": "code",
   "execution_count": null,
   "metadata": {},
   "outputs": [],
   "source": []
  }
 ],
 "metadata": {
  "kernelspec": {
   "display_name": "Python 3",
   "language": "python",
   "name": "python3"
  },
  "language_info": {
   "codemirror_mode": {
    "name": "ipython",
    "version": 3
   },
   "file_extension": ".py",
   "mimetype": "text/x-python",
   "name": "python",
   "nbconvert_exporter": "python",
   "pygments_lexer": "ipython3",
   "version": "3.8.2"
  }
 },
 "nbformat": 4,
 "nbformat_minor": 4
}
